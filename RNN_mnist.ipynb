{
 "cells": [
  {
   "cell_type": "code",
   "execution_count": 2,
   "metadata": {},
   "outputs": [],
   "source": [
    "import tensorflow as tf\n",
    "import numpy as np\n",
    "import pandas as pd\n",
    "import time\n",
    "\n",
    "\n",
    "import matplotlib.pyplot as plt\n",
    "%matplotlib inline"
   ]
  },
  {
   "cell_type": "markdown",
   "metadata": {},
   "source": [
    "# Recurrent Neural Networks LSTM and GRU \n",
    "\n",
    "Using tensorflow libray. Example using MNIST dataset of handwritten digits http://yann.lecun.com/exdb/mnist/)."
   ]
  },
  {
   "cell_type": "code",
   "execution_count": 9,
   "metadata": {},
   "outputs": [],
   "source": [
    "from tensorflow.examples.tutorials.mnist import input_data"
   ]
  },
  {
   "cell_type": "code",
   "execution_count": 10,
   "metadata": {},
   "outputs": [
    {
     "name": "stdout",
     "output_type": "stream",
     "text": [
      "Extracting MNIST_data/train-images-idx3-ubyte.gz\n",
      "Extracting MNIST_data/train-labels-idx1-ubyte.gz\n",
      "Extracting MNIST_data/t10k-images-idx3-ubyte.gz\n",
      "Extracting MNIST_data/t10k-labels-idx1-ubyte.gz\n"
     ]
    }
   ],
   "source": [
    "mnist = input_data.read_data_sets(\"MNIST_data/\", one_hot=True)"
   ]
  },
  {
   "cell_type": "code",
   "execution_count": 112,
   "metadata": {
    "collapsed": true
   },
   "outputs": [],
   "source": [
    "tf.reset_default_graph()\n",
    "sess = tf.Session()"
   ]
  },
  {
   "cell_type": "markdown",
   "metadata": {},
   "source": [
    "# Recurrent Neural Networks"
   ]
  },
  {
   "cell_type": "code",
   "execution_count": 134,
   "metadata": {},
   "outputs": [
    {
     "data": {
      "text/html": [
       "<img src=\"https://cdn-images-1.medium.com/max/1600/1*V2W4TCmTj2h1CE7I-DngPw.png\"/>"
      ],
      "text/plain": [
       "<IPython.core.display.Image object>"
      ]
     },
     "execution_count": 134,
     "metadata": {},
     "output_type": "execute_result"
    }
   ],
   "source": [
    "from IPython.display import Image\n",
    "\n",
    "Image(url=\"https://cdn-images-1.medium.com/max/1600/1*V2W4TCmTj2h1CE7I-DngPw.png\")"
   ]
  },
  {
   "cell_type": "code",
   "execution_count": 113,
   "metadata": {
    "collapsed": true
   },
   "outputs": [],
   "source": [
    "def RNN(x_, w, b):\n",
    "    x_ = tf.transpose(x_, [1, 0, 2])\n",
    "    x_ = tf.reshape(x_, [-1, n_inputs])\n",
    "    \n",
    "    \n",
    "    hidden = tf.matmul(x_, w['hidden']) + b['hidden']\n",
    "    hidden = tf.nn.relu(hidden)\n",
    "    hidden = tf.split(hidden, n_steps, 0)\n",
    "    rnn_layers = [tf.contrib.rnn.DropoutWrapper(tf.contrib.rnn.GRUCell(n_hidden), output_keep_prob=keep_prob) for _ in range(n_layers)]\n",
    "    rnn_layers = tf.contrib.rnn.MultiRNNCell(rnn_layers)\n",
    "    outputs, _ = tf.contrib.rnn.static_rnn(rnn_layers, hidden, dtype=tf.float32)\n",
    "    \n",
    "    rnn_output = outputs[-1]\n",
    "    return tf.matmul(rnn_output, w['out']) + b['out']\n",
    "    \n",
    "    "
   ]
  },
  {
   "cell_type": "code",
   "execution_count": 114,
   "metadata": {},
   "outputs": [],
   "source": [
    "learning_rate = 1e-3\n",
    "\n",
    "batch_size = 128\n",
    "\n",
    "n_inputs = 28\n",
    "n_steps = 28\n",
    "n_hidden = 128\n",
    "n_classes = 10\n",
    "n_layers = 2\n",
    "\n",
    "test_inputs = mnist.test.images[:batch_size].reshape((-1, n_steps, n_inputs))\n",
    "test_labels = mnist.test.labels[:batch_size]\n",
    "\n",
    "x = tf.placeholder(dtype=tf.float32, shape=[None, n_steps, n_inputs])\n",
    "y = tf.placeholder(dtype=tf.float32, shape=[None, n_classes])\n",
    "keep_prob = tf.placeholder(dtype=tf.float32)\n",
    "\n",
    "w = {\n",
    "    'hidden':tf.Variable(tf.random_normal([n_inputs, n_hidden])),\n",
    "    'out'   : tf.Variable(tf.random_normal([n_hidden, n_classes]))\n",
    "    \n",
    "}\n",
    "b = {\n",
    "    'hidden' : tf.Variable(tf.random_normal([n_hidden])),\n",
    "    'out'    : tf.Variable(tf.random_normal([n_classes]))\n",
    "}\n"
   ]
  },
  {
   "cell_type": "code",
   "execution_count": 115,
   "metadata": {},
   "outputs": [],
   "source": [
    "logits = RNN(x, w, b)\n",
    "softmax = tf.nn.softmax(logits)"
   ]
  },
  {
   "cell_type": "markdown",
   "metadata": {},
   "source": [
    "# Let's Optimize"
   ]
  },
  {
   "cell_type": "code",
   "execution_count": 133,
   "metadata": {},
   "outputs": [
    {
     "data": {
      "text/html": [
       "<img src=\"https://codelabs.developers.google.com/codelabs/cloud-tensorflow-mnist/img/bdd8f1f362889583.png\"/>"
      ],
      "text/plain": [
       "<IPython.core.display.Image object>"
      ]
     },
     "execution_count": 133,
     "metadata": {},
     "output_type": "execute_result"
    }
   ],
   "source": [
    "from IPython.display import Image\n",
    "Image(url=\"https://codelabs.developers.google.com/codelabs/cloud-tensorflow-mnist/img/bdd8f1f362889583.png\")"
   ]
  },
  {
   "cell_type": "code",
   "execution_count": 116,
   "metadata": {
    "collapsed": true
   },
   "outputs": [],
   "source": [
    "loss = tf.reduce_mean(tf.nn.softmax_cross_entropy_with_logits(logits=logits, labels=y))\n",
    "optimizer = tf.train.AdamOptimizer(learning_rate, beta1=0.90, beta2=0.99).minimize(loss)\n",
    "\n",
    "prediction = tf.equal(tf.argmax(softmax, 1), tf.argmax(y, 1))\n",
    "accuracy = tf.reduce_mean(tf.cast(prediction, tf.float32))"
   ]
  },
  {
   "cell_type": "code",
   "execution_count": 117,
   "metadata": {},
   "outputs": [],
   "source": [
    "init = tf.global_variables_initializer()\n",
    "sess.run(init)"
   ]
  },
  {
   "cell_type": "code",
   "execution_count": 118,
   "metadata": {},
   "outputs": [
    {
     "name": "stdout",
     "output_type": "stream",
     "text": [
      "Initializing Training\n",
      "EPOCH: 0\n",
      "Loss : 11.4624662399292 and Accuracy: 8.59375\n",
      "EPOCH: 100\n",
      "Loss : 0.5268256664276123 and Accuracy: 82.03125\n",
      "EPOCH: 200\n",
      "Loss : 0.23446272313594818 and Accuracy: 92.96875\n",
      "EPOCH: 300\n",
      "Loss : 0.15800151228904724 and Accuracy: 94.53125\n",
      "EPOCH: 400\n",
      "Loss : 0.18906140327453613 and Accuracy: 94.53125\n",
      "EPOCH: 500\n",
      "Loss : 0.06856535375118256 and Accuracy: 97.65625\n",
      "EPOCH: 600\n",
      "Loss : 0.04374491050839424 and Accuracy: 99.21875\n",
      "EPOCH: 700\n",
      "Loss : 0.23458731174468994 and Accuracy: 96.09375\n",
      "EPOCH: 800\n",
      "Loss : 0.2150009125471115 and Accuracy: 93.75\n",
      "EPOCH: 900\n",
      "Loss : 0.08172964304685593 and Accuracy: 97.65625\n",
      "EPOCH: 1000\n",
      "Loss : 0.16209298372268677 and Accuracy: 96.875\n",
      "EPOCH: 1100\n",
      "Loss : 0.01662084460258484 and Accuracy: 99.21875\n",
      "EPOCH: 1200\n",
      "Loss : 0.10869061946868896 and Accuracy: 98.4375\n",
      "EPOCH: 1300\n",
      "Loss : 0.0933050662279129 and Accuracy: 96.875\n",
      "EPOCH: 1400\n",
      "Loss : 0.01637428067624569 and Accuracy: 99.21875\n",
      "EPOCH: 1500\n",
      "Loss : 0.1085675060749054 and Accuracy: 96.09375\n",
      "EPOCH: 1600\n",
      "Loss : 0.049926333129405975 and Accuracy: 98.4375\n",
      "EPOCH: 1700\n",
      "Loss : 0.04751773551106453 and Accuracy: 97.65625\n",
      "EPOCH: 1800\n",
      "Loss : 0.012796243652701378 and Accuracy: 99.21875\n",
      "EPOCH: 1900\n",
      "Loss : 0.02756027691066265 and Accuracy: 98.4375\n",
      "EPOCH: 2000\n",
      "Loss : 0.08295473456382751 and Accuracy: 96.09375\n",
      "EPOCH: 2100\n",
      "Loss : 0.05121369659900665 and Accuracy: 97.65625\n",
      "EPOCH: 2200\n",
      "Loss : 0.018225334584712982 and Accuracy: 98.4375\n",
      "EPOCH: 2300\n",
      "Loss : 0.11891307681798935 and Accuracy: 97.65625\n",
      "EPOCH: 2400\n",
      "Loss : 0.025600817054510117 and Accuracy: 99.21875\n",
      "EPOCH: 2500\n",
      "Loss : 0.05100787431001663 and Accuracy: 98.4375\n",
      "EPOCH: 2600\n",
      "Loss : 0.010338653810322285 and Accuracy: 99.21875\n",
      "EPOCH: 2700\n",
      "Loss : 0.011720238253474236 and Accuracy: 99.21875\n",
      "EPOCH: 2800\n",
      "Loss : 0.08183501660823822 and Accuracy: 96.875\n",
      "EPOCH: 2900\n",
      "Loss : 0.001915656146593392 and Accuracy: 100.0\n",
      "EPOCH: 3000\n",
      "Loss : 0.010708598420023918 and Accuracy: 100.0\n",
      "EPOCH: 3100\n",
      "Loss : 0.0705258771777153 and Accuracy: 99.21875\n",
      "EPOCH: 3200\n",
      "Loss : 0.03836556524038315 and Accuracy: 98.4375\n",
      "EPOCH: 3300\n",
      "Loss : 0.036484766751527786 and Accuracy: 99.21875\n",
      "EPOCH: 3400\n",
      "Loss : 0.005640948656946421 and Accuracy: 100.0\n",
      "EPOCH: 3500\n",
      "Loss : 0.0018233003793284297 and Accuracy: 100.0\n",
      "EPOCH: 3600\n",
      "Loss : 0.038348205387592316 and Accuracy: 99.21875\n",
      "EPOCH: 3700\n",
      "Loss : 0.004327027592808008 and Accuracy: 100.0\n",
      "EPOCH: 3800\n",
      "Loss : 0.03500688448548317 and Accuracy: 98.4375\n",
      "EPOCH: 3900\n",
      "Loss : 0.061031050980091095 and Accuracy: 98.4375\n",
      "EPOCH: 4000\n",
      "Loss : 0.05505397170782089 and Accuracy: 99.21875\n",
      "EPOCH: 4100\n",
      "Loss : 0.04894441366195679 and Accuracy: 98.4375\n",
      "EPOCH: 4200\n",
      "Loss : 0.0018296007765457034 and Accuracy: 100.0\n",
      "EPOCH: 4300\n",
      "Loss : 0.020776839926838875 and Accuracy: 99.21875\n",
      "EPOCH: 4400\n",
      "Loss : 0.020641133189201355 and Accuracy: 99.21875\n",
      "EPOCH: 4500\n",
      "Loss : 0.004883666522800922 and Accuracy: 100.0\n",
      "EPOCH: 4600\n",
      "Loss : 0.03007402829825878 and Accuracy: 97.65625\n",
      "EPOCH: 4700\n",
      "Loss : 0.10041695088148117 and Accuracy: 98.4375\n",
      "EPOCH: 4800\n",
      "Loss : 0.001794400392100215 and Accuracy: 100.0\n",
      "EPOCH: 4900\n",
      "Loss : 0.0054885633289813995 and Accuracy: 100.0\n",
      "Testing Loss: 0.005421462934464216 and Accuracy: 1.0\n"
     ]
    }
   ],
   "source": [
    "import time\n",
    "train_loss = []\n",
    "train_acc = []\n",
    "start = time.time()\n",
    "epochs = 5000\n",
    "print('Initializing Training')\n",
    "try:\n",
    "    for epoch in range(epochs):\n",
    "        x_batch, y_batch = mnist.train.next_batch(batch_size)\n",
    "        x_batch = np.reshape(x_batch, (batch_size, n_steps, n_inputs))\n",
    "        cost, acc, _ = sess.run([loss, accuracy, optimizer], feed_dict={x: x_batch,\n",
    "                                                                       y: y_batch,\n",
    "                                                                       keep_prob:0.8})\n",
    "        train_loss.append(cost)\n",
    "        train_acc.append(acc)\n",
    "        if epoch % 100 == 0:\n",
    "            print('EPOCH: {}'.format(epoch))\n",
    "            print('Loss : {} and Accuracy: {}'.format(cost, 100 * acc))\n",
    "                        \n",
    "except KeyboardInterrupt:\n",
    "    print('Training interrupted after:{}'.format(time.time() - start))\n",
    "acc_te, loss_te = sess.run([accuracy, loss], feed_dict={x:test_inputs, y:test_labels, keep_prob:1.0})\n",
    "print('Testing Loss: {} and Accuracy: {}'.format(loss_te, acc_te))    \n"
   ]
  },
  {
   "cell_type": "code",
   "execution_count": 125,
   "metadata": {},
   "outputs": [
    {
     "data": {
      "image/png": "[encoded data removed]",
      "text/plain": [
       "<matplotlib.figure.Figure at 0x7f8cd23bf1d0>"
      ]
     },
     "metadata": {},
     "output_type": "display_data"
    }
   ],
   "source": [
    "font = {\n",
    "    'family' : 'Bitstream Vera Sans',\n",
    "    'weight' : 'bold',\n",
    "    'size'   : 18\n",
    "}\n",
    "\n",
    "plt.rc('font', **font)\n",
    "width = 10\n",
    "height = 10\n",
    "plt.figure(figsize=(width, height))\n",
    "\n",
    "plt.title(\"Training Session's progress\")\n",
    "plt.plot(train_loss, 'b', label='Train Loss')\n",
    "#plt.plot(train_acc_, 'r-', label='Train_accuracy')\n",
    "plt.xlabel(\"Training Iteration\")\n",
    "plt.ylabel(\"Training Accuracy and Loss\")\n",
    "plt.show()"
   ]
  },
  {
   "cell_type": "code",
   "execution_count": 126,
   "metadata": {},
   "outputs": [
    {
     "data": {
      "image/png": "[encoded data removed]",
      "text/plain": [
       "<matplotlib.figure.Figure at 0x7f8cd1ea8438>"
      ]
     },
     "metadata": {},
     "output_type": "display_data"
    }
   ],
   "source": [
    "font = {\n",
    "    'family' : 'Bitstream Vera Sans',\n",
    "    'weight' : 'bold',\n",
    "    'size'   : 18\n",
    "}\n",
    "#train_acc_ = [tr/100 for tr in train_acc]\n",
    "plt.rc('font', **font)\n",
    "width = 10\n",
    "height = 10\n",
    "plt.figure(figsize=(width, height))\n",
    "\n",
    "plt.title(\"Training Session's progress\")\n",
    "#plt.plot(train_loss, 'b', label='Train Loss')\n",
    "plt.plot(train_acc, 'r-', label='Train_accuracy')\n",
    "plt.xlabel(\"Training Iteration\")\n",
    "plt.ylabel(\"Training Accuracy and Loss\")\n",
    "plt.show()"
   ]
  },
  {
   "cell_type": "code",
   "execution_count": null,
   "metadata": {
    "collapsed": true
   },
   "outputs": [],
   "source": []
  }
 ],
 "metadata": {
  "kernelspec": {
   "display_name": "Python 3",
   "language": "python",
   "name": "python3"
  },
  "language_info": {
   "codemirror_mode": {
    "name": "ipython",
    "version": 3
   },
   "file_extension": ".py",
   "mimetype": "text/x-python",
   "name": "python",
   "nbconvert_exporter": "python",
   "pygments_lexer": "ipython3",
   "version": "3.6.1"
  }
 },
 "nbformat": 4,
 "nbformat_minor": 2
}
